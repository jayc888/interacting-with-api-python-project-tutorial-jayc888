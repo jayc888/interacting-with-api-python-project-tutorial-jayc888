{
    "cells": [
        {
            "cell_type": "markdown",
            "metadata": {},
            "source": [
                "# Explore here"
            ]
        },
        {
            "cell_type": "code",
            "execution_count": 12,
            "metadata": {},
            "outputs": [
                {
                    "name": "stdout",
                    "output_type": "stream",
                    "text": [
                        "[{'name': 'Flashing Lights', 'popularity': 87, 'duracion_min': 3.9584333333333332}, {'name': 'Heartless', 'popularity': 86, 'duracion_min': 3.5166666666666666}, {'name': 'I Wonder', 'popularity': 85, 'duracion_min': 4.057333333333333}, {'name': 'Bound 2', 'popularity': 85, 'duracion_min': 3.8191}, {'name': 'Runaway', 'popularity': 85, 'duracion_min': 9.128883333333333}, {'name': 'Stronger', 'popularity': 84, 'duracion_min': 5.197766666666666}, {'name': \"Can't Tell Me Nothing\", 'popularity': 84, 'duracion_min': 4.526666666666666}, {'name': 'All Falls Down', 'popularity': 84, 'duracion_min': 3.7251}, {'name': 'CARNIVAL', 'popularity': 84, 'duracion_min': 4.405566666666667}, {'name': 'Ni**as In Paris', 'popularity': 83, 'duracion_min': 3.65555}]\n",
                        "                    name  popularity  duracion_min\n",
                        "0        Flashing Lights          87      3.958433\n",
                        "1              Heartless          86      3.516667\n",
                        "2               I Wonder          85      4.057333\n",
                        "3                Bound 2          85      3.819100\n",
                        "4                Runaway          85      9.128883\n",
                        "5               Stronger          84      5.197767\n",
                        "6  Can't Tell Me Nothing          84      4.526667\n",
                        "7         All Falls Down          84      3.725100\n",
                        "8               CARNIVAL          84      4.405567\n",
                        "9        Ni**as In Paris          83      3.655550\n"
                    ]
                }
            ],
            "source": [
                "import os\n",
                "import pandas as pd\n",
                "import seaborn as sns\n",
                "from dotenv import load_dotenv\n",
                "\n",
                "# load the .env file variables\n",
                "load_dotenv()\n",
                "\n",
                "# Get credential values\n",
                "client_id = os.environ.get(\"CLIENT_ID\")\n",
                "client_secret = os.environ.get(\"CLIENT_SECRET\")\n",
                "\n",
                "import spotipy\n",
                "from spotipy.oauth2 import SpotifyClientCredentials\n",
                "\n",
                "auth_manager = SpotifyClientCredentials(client_id=client_id, client_secret=client_secret)\n",
                "spotify = spotipy.Spotify(auth_manager=auth_manager)\n",
                "\n",
                "# 5K4W6rqBFWDnAN6FQUkS6x Kanye West \n",
                "\n",
                "\n",
                "#Obtener las mejores canciones del artista preferido \n",
                "\n",
                "result = spotify.artist_top_tracks(\"5K4W6rqBFWDnAN6FQUkS6x\")\n",
                "\n",
                "\n",
                "songs = []\n",
                "\n",
                "for track in result['tracks']: \n",
                "    songs.append({\"name\":track['name'],\n",
                "                  \"popularity\":track['popularity'],\n",
                "                  \"duracion_min\":track['duration_ms']/60000})\n",
                "    \n",
                "print(songs)\n",
                "\n",
                "df = pd.DataFrame(songs)\n",
                "\n",
                "print(df)\n",
                "\n",
                "\n"
            ]
        },
        {
            "cell_type": "code",
            "execution_count": 13,
            "metadata": {},
            "outputs": [
                {
                    "data": {
                        "image/png": "[encoded data removed]",
                        "text/plain": [
                            "<Figure size 640x480 with 1 Axes>"
                        ]
                    },
                    "metadata": {},
                    "output_type": "display_data"
                }
            ],
            "source": [
                "import matplotlib.pyplot as plt\n",
                "\n",
                "plt.scatter(df['duracion_min'],df['popularity'])\n",
                "plt.show()\n",
                "\n"
            ]
        },
        {
            "cell_type": "markdown",
            "metadata": {},
            "source": [
                "Existe una relacion ??? \n",
                "\n",
                "\n"
            ]
        },
        {
            "cell_type": "code",
            "execution_count": 16,
            "metadata": {},
            "outputs": [
                {
                    "name": "stderr",
                    "output_type": "stream",
                    "text": [
                        "HTTP Error for GET to https://api.spotify.com/v1/audio-features/?ids=5TRPicyLGbAF2LGBFbHGvO,4EWCNWgDS8707fNSZ1oaA5,7rbECVPkY5UODxoOUVKZnA,3sNVsP50132BTNlImLx70i,3DK6m7It6Pw857FcQftMds,0j2T0R9dR9qdJYsB7ciXhf,0mEdbdeRFQwBhN4xfyIeUM,5SkRLpaGtvYPhw02vZhQQ9,2McT2fkH0VDqPsbiB9HWPq,1auxYwYrFRqZP7t3s7w4um with Params: {} returned 403 due to None\n"
                    ]
                },
                {
                    "ename": "SpotifyException",
                    "evalue": "http status: 403, code:-1 - https://api.spotify.com/v1/audio-features/?ids=5TRPicyLGbAF2LGBFbHGvO,4EWCNWgDS8707fNSZ1oaA5,7rbECVPkY5UODxoOUVKZnA,3sNVsP50132BTNlImLx70i,3DK6m7It6Pw857FcQftMds,0j2T0R9dR9qdJYsB7ciXhf,0mEdbdeRFQwBhN4xfyIeUM,5SkRLpaGtvYPhw02vZhQQ9,2McT2fkH0VDqPsbiB9HWPq,1auxYwYrFRqZP7t3s7w4um:\n None, reason: None",
                    "output_type": "error",
                    "traceback": [
                        "\u001b[31m---------------------------------------------------------------------------\u001b[39m",
                        "\u001b[31mHTTPError\u001b[39m                                 Traceback (most recent call last)",
                        "\u001b[36mFile \u001b[39m\u001b[32m~/.local/lib/python3.11/site-packages/spotipy/client.py:271\u001b[39m, in \u001b[36mSpotify._internal_call\u001b[39m\u001b[34m(self, method, url, payload, params)\u001b[39m\n\u001b[32m    266\u001b[39m response = \u001b[38;5;28mself\u001b[39m._session.request(\n\u001b[32m    267\u001b[39m     method, url, headers=headers, proxies=\u001b[38;5;28mself\u001b[39m.proxies,\n\u001b[32m    268\u001b[39m     timeout=\u001b[38;5;28mself\u001b[39m.requests_timeout, **args\n\u001b[32m    269\u001b[39m )\n\u001b[32m--> \u001b[39m\u001b[32m271\u001b[39m \u001b[43mresponse\u001b[49m\u001b[43m.\u001b[49m\u001b[43mraise_for_status\u001b[49m\u001b[43m(\u001b[49m\u001b[43m)\u001b[49m\n\u001b[32m    272\u001b[39m results = response.json()\n",
                        "\u001b[36mFile \u001b[39m\u001b[32m~/.local/lib/python3.11/site-packages/requests/models.py:960\u001b[39m, in \u001b[36mResponse.raise_for_status\u001b[39m\u001b[34m(self)\u001b[39m\n\u001b[32m    959\u001b[39m \u001b[38;5;28;01mif\u001b[39;00m http_error_msg:\n\u001b[32m--> \u001b[39m\u001b[32m960\u001b[39m     \u001b[38;5;28;01mraise\u001b[39;00m HTTPError(http_error_msg, response=\u001b[38;5;28mself\u001b[39m)\n",
                        "\u001b[31mHTTPError\u001b[39m: 403 Client Error: Forbidden for url: https://api.spotify.com/v1/audio-features/?ids=5TRPicyLGbAF2LGBFbHGvO,4EWCNWgDS8707fNSZ1oaA5,7rbECVPkY5UODxoOUVKZnA,3sNVsP50132BTNlImLx70i,3DK6m7It6Pw857FcQftMds,0j2T0R9dR9qdJYsB7ciXhf,0mEdbdeRFQwBhN4xfyIeUM,5SkRLpaGtvYPhw02vZhQQ9,2McT2fkH0VDqPsbiB9HWPq,1auxYwYrFRqZP7t3s7w4um",
                        "\nDuring handling of the above exception, another exception occurred:\n",
                        "\u001b[31mSpotifyException\u001b[39m                          Traceback (most recent call last)",
                        "\u001b[36mCell\u001b[39m\u001b[36m \u001b[39m\u001b[32mIn[16]\u001b[39m\u001b[32m, line 2\u001b[39m\n\u001b[32m      1\u001b[39m track_ids = [track[\u001b[33m\"\u001b[39m\u001b[33muri\u001b[39m\u001b[33m\"\u001b[39m] \u001b[38;5;28;01mfor\u001b[39;00m track \u001b[38;5;129;01min\u001b[39;00m result[\u001b[33m\"\u001b[39m\u001b[33mtracks\u001b[39m\u001b[33m\"\u001b[39m]]\n\u001b[32m----> \u001b[39m\u001b[32m2\u001b[39m features = \u001b[43mspotify\u001b[49m\u001b[43m.\u001b[49m\u001b[43maudio_features\u001b[49m\u001b[43m(\u001b[49m\u001b[43mtrack_ids\u001b[49m\u001b[43m)\u001b[49m\n\u001b[32m      3\u001b[39m features\n",
                        "\u001b[36mFile \u001b[39m\u001b[32m~/.local/lib/python3.11/site-packages/spotipy/client.py:1737\u001b[39m, in \u001b[36mSpotify.audio_features\u001b[39m\u001b[34m(self, tracks)\u001b[39m\n\u001b[32m   1735\u001b[39m \u001b[38;5;28;01melse\u001b[39;00m:\n\u001b[32m   1736\u001b[39m     tlist = [\u001b[38;5;28mself\u001b[39m._get_id(\u001b[33m\"\u001b[39m\u001b[33mtrack\u001b[39m\u001b[33m\"\u001b[39m, t) \u001b[38;5;28;01mfor\u001b[39;00m t \u001b[38;5;129;01min\u001b[39;00m tracks]\n\u001b[32m-> \u001b[39m\u001b[32m1737\u001b[39m     results = \u001b[38;5;28;43mself\u001b[39;49m\u001b[43m.\u001b[49m\u001b[43m_get\u001b[49m\u001b[43m(\u001b[49m\u001b[33;43m\"\u001b[39;49m\u001b[33;43maudio-features/?ids=\u001b[39;49m\u001b[33;43m\"\u001b[39;49m\u001b[43m \u001b[49m\u001b[43m+\u001b[49m\u001b[43m \u001b[49m\u001b[33;43m\"\u001b[39;49m\u001b[33;43m,\u001b[39;49m\u001b[33;43m\"\u001b[39;49m\u001b[43m.\u001b[49m\u001b[43mjoin\u001b[49m\u001b[43m(\u001b[49m\u001b[43mtlist\u001b[49m\u001b[43m)\u001b[49m\u001b[43m)\u001b[49m\n\u001b[32m   1738\u001b[39m \u001b[38;5;66;03m# the response has changed, look for the new style first, and if\u001b[39;00m\n\u001b[32m   1739\u001b[39m \u001b[38;5;66;03m# its not there, fallback on the old style\u001b[39;00m\n\u001b[32m   1740\u001b[39m \u001b[38;5;28;01mif\u001b[39;00m \u001b[33m\"\u001b[39m\u001b[33maudio_features\u001b[39m\u001b[33m\"\u001b[39m \u001b[38;5;129;01min\u001b[39;00m results:\n",
                        "\u001b[36mFile \u001b[39m\u001b[32m~/.local/lib/python3.11/site-packages/spotipy/client.py:323\u001b[39m, in \u001b[36mSpotify._get\u001b[39m\u001b[34m(self, url, args, payload, **kwargs)\u001b[39m\n\u001b[32m    320\u001b[39m \u001b[38;5;28;01mif\u001b[39;00m args:\n\u001b[32m    321\u001b[39m     kwargs.update(args)\n\u001b[32m--> \u001b[39m\u001b[32m323\u001b[39m \u001b[38;5;28;01mreturn\u001b[39;00m \u001b[38;5;28;43mself\u001b[39;49m\u001b[43m.\u001b[49m\u001b[43m_internal_call\u001b[49m\u001b[43m(\u001b[49m\u001b[33;43m\"\u001b[39;49m\u001b[33;43mGET\u001b[39;49m\u001b[33;43m\"\u001b[39;49m\u001b[43m,\u001b[49m\u001b[43m \u001b[49m\u001b[43murl\u001b[49m\u001b[43m,\u001b[49m\u001b[43m \u001b[49m\u001b[43mpayload\u001b[49m\u001b[43m,\u001b[49m\u001b[43m \u001b[49m\u001b[43mkwargs\u001b[49m\u001b[43m)\u001b[49m\n",
                        "\u001b[36mFile \u001b[39m\u001b[32m~/.local/lib/python3.11/site-packages/spotipy/client.py:293\u001b[39m, in \u001b[36mSpotify._internal_call\u001b[39m\u001b[34m(self, method, url, payload, params)\u001b[39m\n\u001b[32m    286\u001b[39m         reason = \u001b[38;5;28;01mNone\u001b[39;00m\n\u001b[32m    288\u001b[39m     logger.error(\n\u001b[32m    289\u001b[39m         \u001b[33m'\u001b[39m\u001b[33mHTTP Error for \u001b[39m\u001b[38;5;132;01m%s\u001b[39;00m\u001b[33m to \u001b[39m\u001b[38;5;132;01m%s\u001b[39;00m\u001b[33m with Params: \u001b[39m\u001b[38;5;132;01m%s\u001b[39;00m\u001b[33m returned \u001b[39m\u001b[38;5;132;01m%s\u001b[39;00m\u001b[33m due to \u001b[39m\u001b[38;5;132;01m%s\u001b[39;00m\u001b[33m'\u001b[39m,\n\u001b[32m    290\u001b[39m         method, url, args.get(\u001b[33m\"\u001b[39m\u001b[33mparams\u001b[39m\u001b[33m\"\u001b[39m), response.status_code, msg\n\u001b[32m    291\u001b[39m     )\n\u001b[32m--> \u001b[39m\u001b[32m293\u001b[39m     \u001b[38;5;28;01mraise\u001b[39;00m SpotifyException(\n\u001b[32m    294\u001b[39m         response.status_code,\n\u001b[32m    295\u001b[39m         -\u001b[32m1\u001b[39m,\n\u001b[32m    296\u001b[39m         \u001b[33m\"\u001b[39m\u001b[38;5;132;01m%s\u001b[39;00m\u001b[33m:\u001b[39m\u001b[38;5;130;01m\\n\u001b[39;00m\u001b[33m \u001b[39m\u001b[38;5;132;01m%s\u001b[39;00m\u001b[33m\"\u001b[39m % (response.url, msg),\n\u001b[32m    297\u001b[39m         reason=reason,\n\u001b[32m    298\u001b[39m         headers=response.headers,\n\u001b[32m    299\u001b[39m     )\n\u001b[32m    300\u001b[39m \u001b[38;5;28;01mexcept\u001b[39;00m requests.exceptions.RetryError \u001b[38;5;28;01mas\u001b[39;00m retry_error:\n\u001b[32m    301\u001b[39m     request = retry_error.request\n",
                        "\u001b[31mSpotifyException\u001b[39m: http status: 403, code:-1 - https://api.spotify.com/v1/audio-features/?ids=5TRPicyLGbAF2LGBFbHGvO,4EWCNWgDS8707fNSZ1oaA5,7rbECVPkY5UODxoOUVKZnA,3sNVsP50132BTNlImLx70i,3DK6m7It6Pw857FcQftMds,0j2T0R9dR9qdJYsB7ciXhf,0mEdbdeRFQwBhN4xfyIeUM,5SkRLpaGtvYPhw02vZhQQ9,2McT2fkH0VDqPsbiB9HWPq,1auxYwYrFRqZP7t3s7w4um:\n None, reason: None"
                    ]
                }
            ],
            "source": [
                "track_ids = [track[\"uri\"] for track in result[\"tracks\"]]\n",
                "features = spotify.audio_features(track_ids)\n",
                "features\n"
            ]
        }
    ],
    "metadata": {
        "kernelspec": {
            "display_name": "Python 3",
            "language": "python",
            "name": "python3"
        },
        "language_info": {
            "codemirror_mode": {
                "name": "ipython",
                "version": 3
            },
            "file_extension": ".py",
            "mimetype": "text/x-python",
            "name": "python",
            "nbconvert_exporter": "python",
            "pygments_lexer": "ipython3",
            "version": "3.11.4"
        },
        "orig_nbformat": 4
    },
    "nbformat": 4,
    "nbformat_minor": 2
}
